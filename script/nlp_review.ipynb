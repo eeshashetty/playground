{
 "cells": [
  {
   "cell_type": "code",
   "execution_count": 1,
   "metadata": {},
   "outputs": [
    {
     "name": "stdout",
     "output_type": "stream",
     "text": [
      "80.4\n"
     ]
    },
    {
     "name": "stderr",
     "output_type": "stream",
     "text": [
      "/home/eesha/anaconda3/lib/python3.7/site-packages/sklearn/externals/joblib/__init__.py:15: DeprecationWarning: sklearn.externals.joblib is deprecated in 0.21 and will be removed in 0.23. Please import this functionality directly from joblib, which can be installed with: pip install joblib. If this warning is raised when loading pickled models, you may need to re-serialize those models with scikit-learn 0.21+.\n",
      "  warnings.warn(msg, category=DeprecationWarning)\n"
     ]
    },
    {
     "data": {
      "text/plain": [
       "['nlpmodel.pkl']"
      ]
     },
     "execution_count": 1,
     "metadata": {},
     "output_type": "execute_result"
    }
   ],
   "source": [
    "import nltk.classify.util\n",
    "from nltk.classify import NaiveBayesClassifier\n",
    "from nltk.corpus import stopwords, movie_reviews\n",
    "from nltk.tokenize import word_tokenize\n",
    "from nltk.stem import WordNetLemmatizer\n",
    "\n",
    "lm = WordNetLemmatizer()\n",
    "\n",
    "def create_features(words):\n",
    "    new_words = [lm.lemmatize(word) for word in words]\n",
    "    new_words = [word for word in new_words if word not in stopwords.words('english')]\n",
    "    words_dict = dict([(word, True) for word in new_words])\n",
    "    return words_dict\n",
    "\n",
    "pos_revs = []\n",
    "for fileid in movie_reviews.fileids('pos'):\n",
    "    words = movie_reviews.words(fileid)\n",
    "    pos_revs.append((create_features(words), 'positive'))\n",
    "\n",
    "neg_revs = []\n",
    "for fileid in movie_reviews.fileids('neg'):\n",
    "    words = movie_reviews.words(fileid)\n",
    "    neg_revs.append((create_features(words), 'negative'))\n",
    "\n",
    "train = pos_revs[750:] + neg_revs[:750]\n",
    "test = pos_revs[:750] + neg_revs[750:]\n",
    "\n",
    "classifier = NaiveBayesClassifier.train(train)\n",
    "\n",
    "accuracy = nltk.classify.util.accuracy(classifier, test)\n",
    "print(accuracy*100)\n",
    "\n",
    "from sklearn.externals import joblib\n",
    "joblib.dump(classifier, 'nlpmodel.pkl')"
   ]
  },
  {
   "cell_type": "code",
   "execution_count": 5,
   "metadata": {},
   "outputs": [
    {
     "name": "stdout",
     "output_type": "stream",
     "text": [
      "Review:  The Dark Knight Rises incident remains entrenched in my mind as an amateur movie reviewer— an example of just how willfully ignorant, narrow-minded, shallow, undemanding, and uncritical audiences today are. The review, and reviews like it, contributed greatly to my slow realization that superhero movies are absolute garbage.\n",
      "\n",
      "sentiment: negative\n"
     ]
    }
   ],
   "source": [
    "# testing the model\n",
    "input_text = input('Review: ')\n",
    "text = lm.lemmatize(input_text)\n",
    "text = create_features(text)\n",
    "print('\\nsentiment: ', end='')\n",
    "print(classifier.classify(text))"
   ]
  }
 ],
 "metadata": {
  "kernelspec": {
   "display_name": "Python 3",
   "language": "python",
   "name": "python3"
  },
  "language_info": {
   "codemirror_mode": {
    "name": "ipython",
    "version": 3
   },
   "file_extension": ".py",
   "mimetype": "text/x-python",
   "name": "python",
   "nbconvert_exporter": "python",
   "pygments_lexer": "ipython3",
   "version": "3.7.4"
  }
 },
 "nbformat": 4,
 "nbformat_minor": 2
}
